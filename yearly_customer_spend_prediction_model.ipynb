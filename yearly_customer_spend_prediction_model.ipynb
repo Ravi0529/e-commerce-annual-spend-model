{
 "cells": [
  {
   "cell_type": "markdown",
   "id": "def52430",
   "metadata": {},
   "source": [
    "## E-Commerce: Linear Regression\n",
    "\n",
    "### Yearly customer spend prediction model\n"
   ]
  }
 ],
 "metadata": {
  "language_info": {
   "name": "python"
  }
 },
 "nbformat": 4,
 "nbformat_minor": 5
}
